{
  "nbformat": 4,
  "nbformat_minor": 0,
  "metadata": {
    "colab": {
      "provenance": [],
      "include_colab_link": true
    },
    "kernelspec": {
      "name": "python3",
      "display_name": "Python 3"
    },
    "language_info": {
      "name": "python"
    }
  },
  "cells": [
    {
      "cell_type": "markdown",
      "metadata": {
        "id": "view-in-github",
        "colab_type": "text"
      },
      "source": [
        "<a href=\"https://colab.research.google.com/github/sailakshmi972/brain-tumor-detection-using-vgg19/blob/main/NLP.ipynb\" target=\"_parent\"><img src=\"https://colab.research.google.com/assets/colab-badge.svg\" alt=\"Open In Colab\"/></a>"
      ]
    },
    {
      "cell_type": "code",
      "execution_count": null,
      "metadata": {
        "colab": {
          "base_uri": "https://localhost:8080/"
        },
        "id": "iyFrjypE2VWe",
        "outputId": "8d520f3f-21af-4c75-e114-b21d564a861d"
      },
      "outputs": [
        {
          "output_type": "stream",
          "name": "stdout",
          "text": [
            "Requirement already satisfied: nltk in /usr/local/lib/python3.10/dist-packages (3.8.1)\n",
            "Requirement already satisfied: pandas in /usr/local/lib/python3.10/dist-packages (2.2.2)\n",
            "Requirement already satisfied: click in /usr/local/lib/python3.10/dist-packages (from nltk) (8.1.7)\n",
            "Requirement already satisfied: joblib in /usr/local/lib/python3.10/dist-packages (from nltk) (1.4.2)\n",
            "Requirement already satisfied: regex>=2021.8.3 in /usr/local/lib/python3.10/dist-packages (from nltk) (2024.9.11)\n",
            "Requirement already satisfied: tqdm in /usr/local/lib/python3.10/dist-packages (from nltk) (4.66.5)\n",
            "Requirement already satisfied: numpy>=1.22.4 in /usr/local/lib/python3.10/dist-packages (from pandas) (1.26.4)\n",
            "Requirement already satisfied: python-dateutil>=2.8.2 in /usr/local/lib/python3.10/dist-packages (from pandas) (2.8.2)\n",
            "Requirement already satisfied: pytz>=2020.1 in /usr/local/lib/python3.10/dist-packages (from pandas) (2024.2)\n",
            "Requirement already satisfied: tzdata>=2022.7 in /usr/local/lib/python3.10/dist-packages (from pandas) (2024.2)\n",
            "Requirement already satisfied: six>=1.5 in /usr/local/lib/python3.10/dist-packages (from python-dateutil>=2.8.2->pandas) (1.16.0)\n"
          ]
        }
      ],
      "source": [
        "!pip install nltk pandas\n"
      ]
    },
    {
      "cell_type": "code",
      "source": [
        "import nltk\n",
        "nltk.download('vader_lexicon')"
      ],
      "metadata": {
        "colab": {
          "base_uri": "https://localhost:8080/"
        },
        "id": "gSWS0P4w6Mhw",
        "outputId": "7e5bec84-e092-4cd7-c2ad-8b47d7baba44"
      },
      "execution_count": null,
      "outputs": [
        {
          "output_type": "stream",
          "name": "stderr",
          "text": [
            "[nltk_data] Downloading package vader_lexicon to /root/nltk_data...\n"
          ]
        },
        {
          "output_type": "execute_result",
          "data": {
            "text/plain": [
              "True"
            ]
          },
          "metadata": {},
          "execution_count": 2
        }
      ]
    },
    {
      "cell_type": "code",
      "source": [
        "from nltk.sentiment.vader import SentimentIntensityAnalyzer\n",
        "import pandas as pd\n",
        "def analyze_sentiment(comment):\n",
        "  sia = SentimentIntensityAnalyzer()\n",
        "  scores = sia.polarity_scores(comment)\n",
        "  if scores['compound'] > 0.05:\n",
        "    return 'positive'\n",
        "  elif scores['compound'] < -0.05:\n",
        "    return 'negative'\n",
        "  else:\n",
        "    return 'neutral'\n",
        "df = pd.read_csv('/content/commands1.csv')\n",
        "df['sentiment'] = df['comment'].apply(analyze_sentiment)\n",
        "print(df[['author','comment', 'sentiment']])\n",
        "\n",
        "\n"
      ],
      "metadata": {
        "colab": {
          "base_uri": "https://localhost:8080/"
        },
        "id": "yGJPEb3B6OkM",
        "outputId": "adb72512-1f1b-4a38-a4ea-aadd1f8749f7"
      },
      "execution_count": null,
      "outputs": [
        {
          "output_type": "stream",
          "name": "stdout",
          "text": [
            "                author                                            comment  \\\n",
            "0           John Smith  Seeing a film in the cinema after a long time....   \n",
            "1        Emily Johnson                                     Please be good   \n",
            "2        Michael Brown   Going to see SRK on the big screen after 6 years   \n",
            "3         Sophia Davis  All over to lord Sid Anand now. I feel like th...   \n",
            "4         James Wilson  I haven't gone to a theater in seven years. Th...   \n",
            "5        Olivia Taylor  Everyone is eagerly waiting for the good news....   \n",
            "6     William Anderson              So many police officers in my theatre   \n",
            "7       Isabella Moore                             The movie was very bad   \n",
            "8         Ethan Thomas                                         Flop movie   \n",
            "9          Ava Jackson        That was a brilliant performance! Loved it!   \n",
            "10     Alexander White  The storyline could have been much better, ver...   \n",
            "11          Mia Harris  The visuals were stunning, but the plot lacked...   \n",
            "12     Benjamin Martin         I don't think I'll watch this movie again.   \n",
            "13  Charlotte Thompson   Such an emotional rollercoaster, I'm speechless.   \n",
            "14        Lucas Garcia    This is one of the worst movies I've ever seen!   \n",
            "\n",
            "   sentiment  \n",
            "0   positive  \n",
            "1   positive  \n",
            "2    neutral  \n",
            "3   positive  \n",
            "4    neutral  \n",
            "5   positive  \n",
            "6    neutral  \n",
            "7   negative  \n",
            "8   negative  \n",
            "9   positive  \n",
            "10  negative  \n",
            "11  positive  \n",
            "12   neutral  \n",
            "13  positive  \n",
            "14  negative  \n"
          ]
        }
      ]
    },
    {
      "cell_type": "code",
      "source": [],
      "metadata": {
        "id": "RYksoMDkiL2b"
      },
      "execution_count": null,
      "outputs": []
    },
    {
      "cell_type": "code",
      "source": [
        "# prompt: for the above code delete or eliminate the negative comments from the list\n",
        "\n",
        "import nltk\n",
        "from nltk.sentiment.vader import SentimentIntensityAnalyzer\n",
        "import pandas as pd\n",
        "!pip install nltk pandas\n",
        "\n",
        "nltk.download('vader_lexicon')\n",
        "def analyze_sentiment(comment):\n",
        "  sia = SentimentIntensityAnalyzer()\n",
        "  scores = sia.polarity_scores(comment)\n",
        "  if scores['compound'] > 0.05:\n",
        "    return 'positive'\n",
        "  elif scores['compound'] < -0.05:\n",
        "    return 'negative'\n",
        "  else:\n",
        "    return 'neutral'\n",
        "df = pd.read_csv('/content/commands1.csv')\n",
        "df['sentiment'] = df['comment'].apply(analyze_sentiment)\n",
        "\n",
        "# Delete rows with negative sentiment\n",
        "df = df[df.sentiment != 'negative']\n",
        "\n",
        "print(df[['author','comment', 'sentiment']])\n"
      ],
      "metadata": {
        "id": "8sReoMSU6Tiw",
        "colab": {
          "base_uri": "https://localhost:8080/"
        },
        "outputId": "278cd0f5-0c4e-4e0b-97bb-ece4b4b66d7a"
      },
      "execution_count": null,
      "outputs": [
        {
          "output_type": "stream",
          "name": "stdout",
          "text": [
            "Requirement already satisfied: nltk in /usr/local/lib/python3.10/dist-packages (3.8.1)\n",
            "Requirement already satisfied: pandas in /usr/local/lib/python3.10/dist-packages (2.2.2)\n",
            "Requirement already satisfied: click in /usr/local/lib/python3.10/dist-packages (from nltk) (8.1.7)\n",
            "Requirement already satisfied: joblib in /usr/local/lib/python3.10/dist-packages (from nltk) (1.4.2)\n",
            "Requirement already satisfied: regex>=2021.8.3 in /usr/local/lib/python3.10/dist-packages (from nltk) (2024.9.11)\n",
            "Requirement already satisfied: tqdm in /usr/local/lib/python3.10/dist-packages (from nltk) (4.66.5)\n",
            "Requirement already satisfied: numpy>=1.22.4 in /usr/local/lib/python3.10/dist-packages (from pandas) (1.26.4)\n",
            "Requirement already satisfied: python-dateutil>=2.8.2 in /usr/local/lib/python3.10/dist-packages (from pandas) (2.8.2)\n",
            "Requirement already satisfied: pytz>=2020.1 in /usr/local/lib/python3.10/dist-packages (from pandas) (2024.2)\n",
            "Requirement already satisfied: tzdata>=2022.7 in /usr/local/lib/python3.10/dist-packages (from pandas) (2024.2)\n",
            "Requirement already satisfied: six>=1.5 in /usr/local/lib/python3.10/dist-packages (from python-dateutil>=2.8.2->pandas) (1.16.0)\n",
            "                author                                            comment  \\\n",
            "0           John Smith  Seeing a film in the cinema after a long time....   \n",
            "1        Emily Johnson                                     Please be good   \n",
            "2        Michael Brown   Going to see SRK on the big screen after 6 years   \n",
            "3         Sophia Davis  All over to lord Sid Anand now. I feel like th...   \n",
            "4         James Wilson  I haven't gone to a theater in seven years. Th...   \n",
            "5        Olivia Taylor  Everyone is eagerly waiting for the good news....   \n",
            "6     William Anderson              So many police officers in my theatre   \n",
            "9          Ava Jackson        That was a brilliant performance! Loved it!   \n",
            "11          Mia Harris  The visuals were stunning, but the plot lacked...   \n",
            "12     Benjamin Martin         I don't think I'll watch this movie again.   \n",
            "13  Charlotte Thompson   Such an emotional rollercoaster, I'm speechless.   \n",
            "\n",
            "   sentiment  \n",
            "0   positive  \n",
            "1   positive  \n",
            "2    neutral  \n",
            "3   positive  \n",
            "4    neutral  \n",
            "5   positive  \n",
            "6    neutral  \n",
            "9   positive  \n",
            "11  positive  \n",
            "12   neutral  \n",
            "13  positive  \n"
          ]
        },
        {
          "output_type": "stream",
          "name": "stderr",
          "text": [
            "[nltk_data] Downloading package vader_lexicon to /root/nltk_data...\n",
            "[nltk_data]   Package vader_lexicon is already up-to-date!\n"
          ]
        }
      ]
    }
  ]
}